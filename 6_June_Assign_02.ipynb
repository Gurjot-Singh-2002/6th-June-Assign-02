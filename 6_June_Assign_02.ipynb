{
  "nbformat": 4,
  "nbformat_minor": 0,
  "metadata": {
    "colab": {
      "provenance": [],
      "authorship_tag": "ABX9TyOusJYXl7Es8eG0Ncv2M1M1",
      "include_colab_link": true
    },
    "kernelspec": {
      "name": "python3",
      "display_name": "Python 3"
    },
    "language_info": {
      "name": "python"
    }
  },
  "cells": [
    {
      "cell_type": "markdown",
      "metadata": {
        "id": "view-in-github",
        "colab_type": "text"
      },
      "source": [
        "<a href=\"https://colab.research.google.com/github/Gurjot-Singh-2002/6th-June-Assign-02/blob/main/6_June_Assign_02.ipynb\" target=\"_parent\"><img src=\"https://colab.research.google.com/assets/colab-badge.svg\" alt=\"Open In Colab\"/></a>"
      ]
    },
    {
      "cell_type": "code",
      "source": [
        "L = [\"Ram\", 1, \"Shyam\", 2, \"Aman\", 3]\n",
        "print(L)\n",
        "L = sorted(L, key=lambda x: (isinstance(x, int), x))\n",
        "print(L)\n",
        "\n"
      ],
      "metadata": {
        "colab": {
          "base_uri": "https://localhost:8080/"
        },
        "id": "LLLc_PUUghXW",
        "outputId": "b8914d51-d330-4ff6-c6e2-f5b4a7565c03"
      },
      "execution_count": null,
      "outputs": [
        {
          "output_type": "stream",
          "name": "stdout",
          "text": [
            "['Ram', 1, 'Shyam', 2, 'Aman', 3]\n",
            "['Aman', 'Ram', 'Shyam', 1, 2, 3]\n"
          ]
        }
      ]
    }
  ]
}